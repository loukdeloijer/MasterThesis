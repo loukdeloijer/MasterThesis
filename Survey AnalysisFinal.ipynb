{
 "cells": [
  {
   "cell_type": "code",
   "execution_count": 2,
   "metadata": {},
   "outputs": [],
   "source": [
    "import pandas as pd\n",
    "import numpy as np\n",
    "import pingouin as pg\n",
    "from scipy import stats\n",
    "from collections import Counter\n",
    "pd.options.display.max_columns = None\n",
    "pd.options.display.max_rows = None\n",
    "pd.options.display.max_colwidth = 100\n",
    "#df = pd.read_csv('/Users/louk/Desktop/Master Thesis/Experiment Files/Product Description Rating_TestData.csv')\n",
    "df = pd.read_csv('/Users/louk/Desktop/Master Thesis/Experiment Files/FinalProductDescriptionRatingFile.csv')"
   ]
  },
  {
   "cell_type": "code",
   "execution_count": 3,
   "metadata": {},
   "outputs": [],
   "source": [
    "df = df.loc[[val for val in df.index if val != 17]]\n",
    "alist = [elem for sublist in [[0], list(range(2, 25)), [28]] for elem in sublist]\n",
    "df = df.loc[[val for val in alist if val != 17]]"
   ]
  },
  {
   "cell_type": "code",
   "execution_count": 27,
   "metadata": {},
   "outputs": [],
   "source": [
    "#question numbers of the haptic"
   ]
  },
  {
   "cell_type": "code",
   "execution_count": 28,
   "metadata": {},
   "outputs": [],
   "source": [
    "one_shot_readability = df[['Q109', 'Q143', 'Q45', 'Q149']].loc[2:]\n",
    "few_shot_readability = df[['Q117', 'Q22', 'Q53', 'Q77']].loc[2:]\n",
    "fine_tune_readability = df[['Q125', 'Q29', 'Q61', 'Q69']].loc[2:]\n",
    "###\n",
    "one_shot_correctness = df[['Q111', 'Q144', 'Q47', 'Q150']].loc[2:]\n",
    "few_shot_correctness = df[['Q119', 'Q24', 'Q55', 'Q79']].loc[2:]\n",
    "fine_tune_correctness = df[['Q127', 'Q31', 'Q63', 'Q71']].loc[2:]\n",
    "###\n",
    "one_shot_repetition = df[['Q113', 'Q145', 'Q49', 'Q151']].loc[2:]\n",
    "few_shot_repetition = df[['Q121', 'Q26', 'Q57', 'Q81']].loc[2:]\n",
    "fine_tune_repetition = df[['Q129', 'Q33', 'Q65', 'Q73']].loc[2:]"
   ]
  },
  {
   "cell_type": "code",
   "execution_count": 29,
   "metadata": {},
   "outputs": [],
   "source": [
    "def return_cronbach_alpha_touch_metrics(df):\n",
    "    Touch_1 = ['Q74', 'Q82', 'Q152', 'Q66', 'Q58', 'Q50', 'Q34', 'Q27', 'Q146', 'Q130', 'Q122', 'Q114']\n",
    "    Touch_2 = ['Q75', 'Q83', 'Q153', 'Q67', 'Q59', 'Q51', 'Q35', 'Q28', 'Q147', 'Q131', 'Q123', 'Q115'] \n",
    "    touch_1df = df[Touch_1][2:]\n",
    "    touch_2df = df[Touch_2][2:]\n",
    "    \n",
    "    touch_1_list = []\n",
    "    for column in touch_1df.columns:\n",
    "        touch_1_list.append([elem for elem in touch_1df[column].tolist() if type(elem) != float])\n",
    "\n",
    "    touch_1_list_int = [int(a) for b in touch_1_list for a in b]\n",
    "\n",
    "    touch_2_list = []\n",
    "    for column in touch_2df.columns:\n",
    "        touch_2_list.append([elem for elem in touch_2df[column].tolist() if type(elem) != float])\n",
    "\n",
    "    touch_2_list_int = [int(a) for b in touch_2_list for a in b]\n",
    "    \n",
    "    stackedDFtouch1 = touch_1df.stack(dropna=False).reset_index()\n",
    "    stackedDFtouch2 = touch_2df.stack(dropna=False).reset_index()\n",
    "    stackedDFtouch2 = stackedDFtouch2.rename(columns={0:'score'})\n",
    "    \n",
    "    result = pd.concat([stackedDFtouch1, stackedDFtouch2], axis=1)\n",
    "    result[0] = np.float32(result[0])\n",
    "    result['score'] = np.float32(result['score'])\n",
    "    \n",
    "    return pg.cronbach_alpha(data=result[[0, 'score']])"
   ]
  },
  {
   "cell_type": "code",
   "execution_count": 30,
   "metadata": {},
   "outputs": [
    {
     "data": {
      "text/plain": [
       "(0.8301736007991576, array([0.784, 0.867]))"
      ]
     },
     "execution_count": 30,
     "metadata": {},
     "output_type": "execute_result"
    }
   ],
   "source": [
    "return_cronbach_alpha_touch_metrics(df)"
   ]
  },
  {
   "cell_type": "code",
   "execution_count": 43,
   "metadata": {},
   "outputs": [],
   "source": [
    "def t_test_instruction_types(df1, df2, df3, score = ['correctness', 'repitition', 'readability']):\n",
    "    names =['oneshot', 'fewshot', 'finetune']\n",
    "    dflist = [df1, df2, df3]\n",
    "\n",
    "    comparisondict = {'df1':dict(), 'df2':dict(), 'df3':dict()}\n",
    "    for dfname, df in list(zip(comparisondict.keys(), dflist)):\n",
    "        for column in df.columns:\n",
    "            comparisondict[dfname][column] = [int(a) for b in [elem for elem in df[column].tolist() if type(elem) != float] for a in b]\n",
    "    \n",
    "    for key in comparisondict.keys():\n",
    "        subdict = comparisondict[key]\n",
    "        comparisondict[key] = sum(subdict.values(), [])\n",
    "    \n",
    "    dfnameslist = list(comparisondict.keys())\n",
    "    \n",
    "    from itertools import combinations\n",
    "    for combination in list(combinations(comparisondict.keys(), 2)):\n",
    "        print(score, names[dfnameslist.index(combination[0])]+' vs '+ names[dfnameslist.index(combination[1])] + ' T-test')\n",
    "        print(stats.ttest_ind(comparisondict[combination[0]], comparisondict[combination[1]], equal_var=False))"
   ]
  },
  {
   "cell_type": "code",
   "execution_count": 44,
   "metadata": {},
   "outputs": [
    {
     "name": "stdout",
     "output_type": "stream",
     "text": [
      "readability oneshot vs fewshot T-test\n",
      "Ttest_indResult(statistic=-2.917103088821242, pvalue=0.004504457310469826)\n",
      "readability oneshot vs finetune T-test\n",
      "Ttest_indResult(statistic=-4.693695377595069, pvalue=1.1476950092825834e-05)\n",
      "readability fewshot vs finetune T-test\n",
      "Ttest_indResult(statistic=-1.7781301323312264, pvalue=0.07892481309464276)\n",
      "correctness oneshot vs fewshot T-test\n",
      "Ttest_indResult(statistic=-3.3954423397074436, pvalue=0.001107057756124154)\n",
      "correctness oneshot vs finetune T-test\n",
      "Ttest_indResult(statistic=-0.18827792669488633, pvalue=0.8510847774402545)\n",
      "correctness fewshot vs finetune T-test\n",
      "Ttest_indResult(statistic=2.9955100997537674, pvalue=0.0037773249847561875)\n",
      "repitition oneshot vs fewshot T-test\n",
      "Ttest_indResult(statistic=-1.5243268922307136, pvalue=0.13111331430051582)\n",
      "repitition oneshot vs finetune T-test\n",
      "Ttest_indResult(statistic=1.7186404438932603, pvalue=0.0894272874143118)\n",
      "repitition fewshot vs finetune T-test\n",
      "Ttest_indResult(statistic=3.1440978157819672, pvalue=0.0024160636989837814)\n"
     ]
    }
   ],
   "source": [
    "readabilityT_test = t_test_instruction_types(one_shot_readability, few_shot_readability, fine_tune_readability, score='readability')\n",
    "correctnessT_test = t_test_instruction_types(one_shot_correctness, few_shot_correctness, fine_tune_correctness, score='correctness')\n",
    "repitionT_test = t_test_instruction_types(one_shot_repetition, few_shot_repetition, fine_tune_repetition, score='repitition')"
   ]
  },
  {
   "cell_type": "code",
   "execution_count": 45,
   "metadata": {},
   "outputs": [
    {
     "name": "stdout",
     "output_type": "stream",
     "text": [
      "Readability\n",
      "{'oneshot': 3.869565217391304, 'fewshot': 4.934782608695652, 'finetune': 5.456521739130435}\n",
      "{'oneshot': 1.9276778851731187, 'fewshot': 1.5549515735659634, 'finetune': 1.241979096963667}\n",
      "Correctness\n",
      "{'oneshot': 4.543478260869565, 'fewshot': 5.478260869565218, 'finetune': 4.608695652173913}\n",
      "{'oneshot': 1.601478785222242, 'fewshot': 0.9600724610334277, 'finetune': 1.718891902354734}\n",
      "Repetition\n",
      "{'oneshot': 2.6739130434782608, 'fewshot': 3.1739130434782608, 'finetune': 2.239130434782609}\n",
      "{'oneshot': 1.3833027759851815, 'fewshot': 1.7423400334809882, 'finetune': 1.0151033359262966}\n"
     ]
    }
   ],
   "source": [
    "print('Readability')\n",
    "mean_instruction_types(one_shot_readability, few_shot_readability, fine_tune_readability)\n",
    "print('Correctness')\n",
    "mean_instruction_types(one_shot_correctness, few_shot_correctness, fine_tune_correctness)\n",
    "print('Repetition')\n",
    "mean_instruction_types(one_shot_repetition, few_shot_repetition, fine_tune_repetition)"
   ]
  },
  {
   "cell_type": "code",
   "execution_count": 46,
   "metadata": {},
   "outputs": [],
   "source": [
    "High_NFT_touch_1 = ['Q146', 'Q27', 'Q34', 'Q152', 'Q82', 'Q74']\n",
    "High_NFT_touch_2 =  ['Q147', 'Q28', 'Q35', 'Q153', 'Q83', 'Q75']\n",
    "Low_NFT_touch_1 = ['Q114', 'Q122', 'Q130', 'Q50', 'Q58', 'Q66']\n",
    "Low_NFT_touch_2 =  ['Q115', 'Q123', 'Q131', 'Q51', 'Q59', 'Q69']\n",
    "HighNFTtouch1df = df[High_NFT_touch_1][1:]\n",
    "LowNFTtouch1df = df[Low_NFT_touch_1][1:]\n",
    "HighNFTtouch2df = df[High_NFT_touch_2][1:]\n",
    "LowNFTtouch2df = df[Low_NFT_touch_2][1:]"
   ]
  },
  {
   "cell_type": "code",
   "execution_count": null,
   "metadata": {},
   "outputs": [],
   "source": []
  },
  {
   "cell_type": "code",
   "execution_count": 47,
   "metadata": {},
   "outputs": [],
   "source": [
    "def t_test_haptic(df1, df2):\n",
    "    dflist = [df1, df2]\n",
    "    comparisondict = {'Haptic':dict(), 'NonHaptic':dict()}\n",
    "    for dfname, df in list(zip(comparisondict.keys(), dflist)):\n",
    "        for column in df.columns:\n",
    "            comparisondict[dfname][column] = [int(a) for b in [elem for elem in df[column].tolist() if type(elem) != float] for a in b]\n",
    "    \n",
    "    \n",
    "    for key in comparisondict.keys():\n",
    "        subdict = comparisondict[key]\n",
    "        comparisondict[key] = sum(subdict.values(), [])\n",
    "    \n",
    "    print('T-test Haptic vs Non Haptic')\n",
    "    print(stats.ttest_ind(comparisondict['Haptic'], comparisondict['NonHaptic'], equal_var=True))"
   ]
  },
  {
   "cell_type": "code",
   "execution_count": 48,
   "metadata": {},
   "outputs": [
    {
     "name": "stdout",
     "output_type": "stream",
     "text": [
      "{'Haptic': 4.753623188405797, 'NonHaptic': 3.608695652173913}\n",
      "{'Haptic': 1.7439458058013264, 'NonHaptic': 1.6289421983060033}\n",
      "{'Haptic': 4.36231884057971, 'NonHaptic': 3.5072463768115942}\n",
      "{'Haptic': 1.7147372847375846, 'NonHaptic': 1.7288485491947685}\n",
      "T-test Haptic vs Non Haptic\n",
      "Ttest_indResult(statistic=3.9853211202032024, pvalue=0.0001093990649665336)\n",
      "T-test Haptic vs Non Haptic\n",
      "Ttest_indResult(statistic=2.9169427482220938, pvalue=0.0041365783190708055)\n"
     ]
    }
   ],
   "source": [
    "means_haptic(HighNFTtouch1df, LowNFTtouch1df)\n",
    "means_haptic(HighNFTtouch2df, LowNFTtouch2df)\n",
    "t_test_haptic(HighNFTtouch1df, LowNFTtouch1df)\n",
    "t_test_haptic(HighNFTtouch2df, LowNFTtouch2df)"
   ]
  },
  {
   "cell_type": "markdown",
   "metadata": {},
   "source": [
    "### T-test haptic differences between finetune generated product descriptions "
   ]
  },
  {
   "cell_type": "code",
   "execution_count": 49,
   "metadata": {},
   "outputs": [
    {
     "name": "stdout",
     "output_type": "stream",
     "text": [
      "haptic Criteria 1\n",
      "{'Haptic': 5.695652173913044, 'NonHaptic': 3.5217391304347827}\n",
      "{'Haptic': 1.184551415235307, 'NonHaptic': 1.6478516376673131}\n",
      "T-test Haptic vs Non Haptic\n",
      "Ttest_indResult(statistic=5.137271133831192, pvalue=6.119471993352423e-06)\n",
      "haptic Criteria 2\n",
      "{'Haptic': 5.130434782608695, 'NonHaptic': 3.260869565217391}\n",
      "{'Haptic': 1.4864340436117256, 'NonHaptic': 1.629762707333015}\n",
      "T-test Haptic vs Non Haptic\n",
      "Ttest_indResult(statistic=4.064768082109021, pvalue=0.0001954902596111671)\n"
     ]
    }
   ],
   "source": [
    "FineTuneHH_Touch1List = ['Q34', 'Q82']\n",
    "FineTuneHH_Touch2List = ['Q35', 'Q83']\n",
    "\n",
    "FineTuneHL_Touch1List = ['Q130', 'Q66']\n",
    "FineTuneHL_Touch2List = ['Q131', 'Q67']\n",
    "\n",
    "FineTuneHH_Touch1df = df[FineTuneHH_Touch1List][1:]\n",
    "FineTuneHL_Touch1df = df[FineTuneHL_Touch1List][1:]\n",
    "FineTuneHH_Touch2df = df[FineTuneHH_Touch2List][1:]\n",
    "FineTuneHL_Touch2df = df[FineTuneHL_Touch2List][1:]\n",
    "\n",
    "print('haptic Criteria 1')\n",
    "means_haptic(FineTuneHH_Touch1df, FineTuneHL_Touch1df)\n",
    "t_test_haptic(FineTuneHH_Touch1df, FineTuneHL_Touch1df)\n",
    "print('haptic Criteria 2')\n",
    "means_haptic(FineTuneHH_Touch2df, FineTuneHL_Touch2df)\n",
    "t_test_haptic(FineTuneHH_Touch2df, FineTuneHL_Touch2df)"
   ]
  },
  {
   "cell_type": "markdown",
   "metadata": {},
   "source": [
    "## T-test based on the combination both criteria "
   ]
  },
  {
   "cell_type": "code",
   "execution_count": 50,
   "metadata": {},
   "outputs": [
    {
     "name": "stdout",
     "output_type": "stream",
     "text": [
      "T-test Haptic vs Non Haptic\n",
      "Ttest_indResult(statistic=1.1545887582833112, pvalue=0.2492648694346185)\n"
     ]
    }
   ],
   "source": [
    "def t_test_haptic_combined(df1, df2, df3, df4):\n",
    "    dflist = [df1, df2, df3, df4]\n",
    "    comparisondict = {'Haptic1':dict(), 'Haptic2':dict(), 'NonHaptic1':dict(), 'NonHaptic2':dict()}\n",
    "    for dfname, df in list(zip(comparisondict.keys(), dflist)):\n",
    "        for column in df.columns:\n",
    "            comparisondict[dfname][column] = [int(a) for b in [elem for elem in df[column].tolist() if type(elem) != float] for a in b]\n",
    "            \n",
    "    for key in comparisondict.keys():\n",
    "        subdict = comparisondict[key]\n",
    "        comparisondict[key] = sum(subdict.values(), [])\n",
    "        \n",
    "    Haptic = comparisondict['Haptic1'] + comparisondict['Haptic2']\n",
    "    NonHaptic = comparisondict['NonHaptic1'] + comparisondict['NonHaptic2']\n",
    "    print('T-test Haptic vs Non Haptic')\n",
    "    print(stats.ttest_ind(Haptic, NonHaptic, equal_var=False))\n",
    "    \n",
    "t_test_haptic_combined(HighNFTtouch1df, LowNFTtouch1df, HighNFTtouch2df, LowNFTtouch2df)"
   ]
  },
  {
   "cell_type": "code",
   "execution_count": 51,
   "metadata": {},
   "outputs": [
    {
     "data": {
      "text/plain": [
       "3.869565217391304"
      ]
     },
     "execution_count": 51,
     "metadata": {},
     "output_type": "execute_result"
    }
   ],
   "source": [
    "import statistics\n",
    "\n",
    "one_shot_readability_list = []\n",
    "for column in one_shot_readability.columns:\n",
    "    one_shot_readability_list.append([elem for elem in one_shot_readability[column].tolist() if type(elem) != float])\n",
    "\n",
    "one_shot_readability_list = [int(a) for b in one_shot_readability_list for a in b]\n",
    "statistics.mean(one_shot_readability_list) "
   ]
  },
  {
   "cell_type": "code",
   "execution_count": 52,
   "metadata": {},
   "outputs": [
    {
     "name": "stdout",
     "output_type": "stream",
     "text": [
      "{'oneshot': 3.869565217391304, 'fewshot': 4.934782608695652, 'finetune': 5.456521739130435}\n",
      "{'oneshot': 1.9276778851731187, 'fewshot': 1.5549515735659634, 'finetune': 1.241979096963667}\n"
     ]
    }
   ],
   "source": [
    "def mean_instruction_types(df1, df2, df3):\n",
    "    names =['oneshot', 'fewshot', 'finetune']\n",
    "    dflist = [df1, df2, df3]\n",
    "\n",
    "    comparisondict = {'df1':dict(), 'df2':dict(), 'df3':dict()}\n",
    "    for dfname, df in list(zip(comparisondict.keys(), dflist)):\n",
    "        for column in df.columns:\n",
    "            comparisondict[dfname][column] = [int(a) for b in [elem for elem in df[column].tolist() if type(elem) != float] for a in b]\n",
    "    \n",
    "    for key in comparisondict.keys():\n",
    "        subdict = comparisondict[key]\n",
    "        comparisondict[key] = sum(subdict.values(), [])\n",
    "    \n",
    "    score_dict = {}\n",
    "    SD_dict = {}\n",
    "    dfnameslist = list(comparisondict.keys())\n",
    "    \n",
    "    for key, alist in list(zip(names, comparisondict.values())):\n",
    "        score_dict[key] = statistics.mean(alist)\n",
    "        SD_dict[key] = statistics.stdev(alist)\n",
    "        \n",
    "    print(score_dict)\n",
    "    print(SD_dict)\n",
    "    #names[dfnameslist.index(combination[0])]+' vs '+ names[dfnameslist.index(combination[1])]\n",
    "\n",
    "mean_instruction_types(one_shot_readability, few_shot_readability, fine_tune_readability)\n",
    "\n",
    "def means_haptic(df1, df2):\n",
    "    dflist = [df1, df2]\n",
    "    comparisondict = {'Haptic':dict(), 'NonHaptic':dict()}\n",
    "    for dfname, df in list(zip(comparisondict.keys(), dflist)):\n",
    "        for column in df.columns:\n",
    "            comparisondict[dfname][column] = [int(a) for b in [elem for elem in df[column].tolist() if type(elem) != float] for a in b]\n",
    "    \n",
    "    for key in comparisondict.keys():\n",
    "        subdict = comparisondict[key]\n",
    "        comparisondict[key] = sum(subdict.values(), [])\n",
    "    \n",
    "    score_dict = {}\n",
    "    SD_dict = {}\n",
    "    dfnameslist = list(comparisondict.keys())\n",
    "    for key, alist in list(zip(dfnameslist, comparisondict.values())):\n",
    "        score_dict[key] = statistics.mean(alist)\n",
    "        SD_dict[key] = statistics.stdev(alist)\n",
    "    \n",
    "    print(score_dict)\n",
    "    print(SD_dict)"
   ]
  },
  {
   "cell_type": "markdown",
   "metadata": {},
   "source": [
    "## Anova Table"
   ]
  },
  {
   "cell_type": "code",
   "execution_count": 53,
   "metadata": {},
   "outputs": [],
   "source": [
    "from scipy.stats import f_oneway"
   ]
  },
  {
   "cell_type": "code",
   "execution_count": 54,
   "metadata": {},
   "outputs": [],
   "source": [
    "one_shot_readability = df[['Q109', 'Q143', 'Q45', 'Q149']].loc[2:]\n",
    "few_shot_readability = df[['Q117', 'Q22', 'Q53', 'Q77']].loc[2:]\n",
    "fine_tune_readability = df[['Q125', 'Q29', 'Q61', 'Q69']].loc[2:]\n",
    "###\n",
    "one_shot_correctness = df[['Q111', 'Q144', 'Q47', 'Q150']].loc[2:]\n",
    "few_shot_correctness = df[['Q119', 'Q24', 'Q55', 'Q79']].loc[2:]\n",
    "fine_tune_correctness = df[['Q127', 'Q31', 'Q63', 'Q71']].loc[2:]\n",
    "###\n",
    "one_shot_repetition = df[['Q113', 'Q145', 'Q49', 'Q151']].loc[2:]\n",
    "few_shot_repetition = df[['Q121', 'Q26', 'Q57', 'Q81']].loc[2:]\n",
    "fine_tune_repetition = df[['Q129', 'Q33', 'Q65', 'Q73']].loc[2:]"
   ]
  },
  {
   "cell_type": "code",
   "execution_count": null,
   "metadata": {},
   "outputs": [],
   "source": []
  },
  {
   "cell_type": "code",
   "execution_count": 55,
   "metadata": {},
   "outputs": [],
   "source": [
    "\n",
    "def threeGroupAnova(df1, df2, df3):\n",
    "    names =['oneshot', 'fewshot', 'finetune']\n",
    "    dflist = [df1, df2, df3]\n",
    "\n",
    "    comparisondict = {'df1':dict(), 'df2':dict(), 'df3':dict()}\n",
    "    for dfname, df in list(zip(comparisondict.keys(), dflist)):\n",
    "        for column in df.columns:\n",
    "            comparisondict[dfname][column] = [int(a) for b in [elem for elem in df[column].tolist() if type(elem) != float] for a in b]\n",
    "    \n",
    "    for key in comparisondict.keys():\n",
    "        subdict = comparisondict[key]\n",
    "        comparisondict[key] = sum(subdict.values(), [])\n",
    "\n",
    "    a = f_oneway(comparisondict['df1'], comparisondict['df2'], comparisondict['df3'])\n",
    "    print(a)\n",
    "    "
   ]
  },
  {
   "cell_type": "code",
   "execution_count": 56,
   "metadata": {},
   "outputs": [
    {
     "name": "stdout",
     "output_type": "stream",
     "text": [
      "F_onewayResult(statistic=11.76117054751416, pvalue=1.9562400414427906e-05)\n",
      "F_onewayResult(statistic=5.8355208880222005, pvalue=0.003709231556241496)\n",
      "F_onewayResult(statistic=5.049684924866699, pvalue=0.007675494146226035)\n"
     ]
    }
   ],
   "source": [
    "threeGroupAnova(one_shot_readability, few_shot_readability, fine_tune_readability)\n",
    "threeGroupAnova(one_shot_correctness, few_shot_correctness, fine_tune_correctness)\n",
    "threeGroupAnova(one_shot_repetition, few_shot_repetition, fine_tune_repetition)"
   ]
  },
  {
   "cell_type": "code",
   "execution_count": 57,
   "metadata": {},
   "outputs": [],
   "source": [
    "from statsmodels.stats.multicomp import pairwise_tukeyhsd\n",
    "def tukey_test(df1, df2, df3):\n",
    "    def flat_df(df1, df2, df3):\n",
    "        df_a = pd.DataFrame(columns=['val', 'group'])\n",
    "        df_a['val'] = pd.Series([val for sublist in df1.values.tolist() for val in sublist if type(val) != float])\n",
    "        df_a['group'] = 'one-shot'\n",
    "        df_b = pd.DataFrame(columns=['val', 'group'])\n",
    "        df_b['val'] = pd.Series([val for sublist in df2.values.tolist() for val in sublist if type(val) != float])\n",
    "        df_b['group'] = 'few-shot'\n",
    "        df_c = pd.DataFrame(columns=['val', 'group'])\n",
    "        df_c['val'] = pd.Series([val for sublist in df3.values.tolist() for val in sublist if type(val) != float])\n",
    "        df_c['group'] = 'fine-tune'\n",
    "        return pd.concat([df_a, df_b, df_c]).reset_index(drop=True)\n",
    "    \n",
    "    tukeydf = flat_df(df1, df2, df3)\n",
    "    tukeydf['val'] = pd.to_numeric(b.val, errors='coerce')\n",
    "    tukey = pairwise_tukeyhsd(endog=b['val'], groups=b['group'], alpha=0.05)\n",
    "    print(tukey)"
   ]
  },
  {
   "cell_type": "code",
   "execution_count": 58,
   "metadata": {},
   "outputs": [
    {
     "ename": "NameError",
     "evalue": "name 'b' is not defined",
     "output_type": "error",
     "traceback": [
      "\u001b[0;31m---------------------------------------------------------------------------\u001b[0m",
      "\u001b[0;31mNameError\u001b[0m                                 Traceback (most recent call last)",
      "\u001b[0;32m<ipython-input-58-78148fb8194c>\u001b[0m in \u001b[0;36m<module>\u001b[0;34m\u001b[0m\n\u001b[0;32m----> 1\u001b[0;31m \u001b[0mtukey_test\u001b[0m\u001b[0;34m(\u001b[0m\u001b[0mone_shot_readability\u001b[0m\u001b[0;34m,\u001b[0m \u001b[0mfew_shot_readability\u001b[0m\u001b[0;34m,\u001b[0m \u001b[0mfine_tune_readability\u001b[0m\u001b[0;34m)\u001b[0m\u001b[0;34m\u001b[0m\u001b[0;34m\u001b[0m\u001b[0m\n\u001b[0m\u001b[1;32m      2\u001b[0m \u001b[0mtukey_test\u001b[0m\u001b[0;34m(\u001b[0m\u001b[0mone_shot_correctness\u001b[0m\u001b[0;34m,\u001b[0m \u001b[0mfew_shot_correctness\u001b[0m\u001b[0;34m,\u001b[0m \u001b[0mfine_tune_correctness\u001b[0m\u001b[0;34m)\u001b[0m\u001b[0;34m\u001b[0m\u001b[0;34m\u001b[0m\u001b[0m\n\u001b[1;32m      3\u001b[0m \u001b[0mtukey_test\u001b[0m\u001b[0;34m(\u001b[0m\u001b[0mone_shot_repetition\u001b[0m\u001b[0;34m,\u001b[0m \u001b[0mfew_shot_repetition\u001b[0m\u001b[0;34m,\u001b[0m \u001b[0mfine_tune_repetition\u001b[0m\u001b[0;34m)\u001b[0m\u001b[0;34m\u001b[0m\u001b[0;34m\u001b[0m\u001b[0m\n",
      "\u001b[0;32m<ipython-input-57-ab01f809d220>\u001b[0m in \u001b[0;36mtukey_test\u001b[0;34m(df1, df2, df3)\u001b[0m\n\u001b[1;32m     14\u001b[0m \u001b[0;34m\u001b[0m\u001b[0m\n\u001b[1;32m     15\u001b[0m     \u001b[0mtukeydf\u001b[0m \u001b[0;34m=\u001b[0m \u001b[0mflat_df\u001b[0m\u001b[0;34m(\u001b[0m\u001b[0mdf1\u001b[0m\u001b[0;34m,\u001b[0m \u001b[0mdf2\u001b[0m\u001b[0;34m,\u001b[0m \u001b[0mdf3\u001b[0m\u001b[0;34m)\u001b[0m\u001b[0;34m\u001b[0m\u001b[0;34m\u001b[0m\u001b[0m\n\u001b[0;32m---> 16\u001b[0;31m     \u001b[0mtukeydf\u001b[0m\u001b[0;34m[\u001b[0m\u001b[0;34m'val'\u001b[0m\u001b[0;34m]\u001b[0m \u001b[0;34m=\u001b[0m \u001b[0mpd\u001b[0m\u001b[0;34m.\u001b[0m\u001b[0mto_numeric\u001b[0m\u001b[0;34m(\u001b[0m\u001b[0mb\u001b[0m\u001b[0;34m.\u001b[0m\u001b[0mval\u001b[0m\u001b[0;34m,\u001b[0m \u001b[0merrors\u001b[0m\u001b[0;34m=\u001b[0m\u001b[0;34m'coerce'\u001b[0m\u001b[0;34m)\u001b[0m\u001b[0;34m\u001b[0m\u001b[0;34m\u001b[0m\u001b[0m\n\u001b[0m\u001b[1;32m     17\u001b[0m     \u001b[0mtukey\u001b[0m \u001b[0;34m=\u001b[0m \u001b[0mpairwise_tukeyhsd\u001b[0m\u001b[0;34m(\u001b[0m\u001b[0mendog\u001b[0m\u001b[0;34m=\u001b[0m\u001b[0mb\u001b[0m\u001b[0;34m[\u001b[0m\u001b[0;34m'val'\u001b[0m\u001b[0;34m]\u001b[0m\u001b[0;34m,\u001b[0m \u001b[0mgroups\u001b[0m\u001b[0;34m=\u001b[0m\u001b[0mb\u001b[0m\u001b[0;34m[\u001b[0m\u001b[0;34m'group'\u001b[0m\u001b[0;34m]\u001b[0m\u001b[0;34m,\u001b[0m \u001b[0malpha\u001b[0m\u001b[0;34m=\u001b[0m\u001b[0;36m0.05\u001b[0m\u001b[0;34m)\u001b[0m\u001b[0;34m\u001b[0m\u001b[0;34m\u001b[0m\u001b[0m\n\u001b[1;32m     18\u001b[0m     \u001b[0mprint\u001b[0m\u001b[0;34m(\u001b[0m\u001b[0mtukey\u001b[0m\u001b[0;34m)\u001b[0m\u001b[0;34m\u001b[0m\u001b[0;34m\u001b[0m\u001b[0m\n",
      "\u001b[0;31mNameError\u001b[0m: name 'b' is not defined"
     ]
    }
   ],
   "source": [
    "tukey_test(one_shot_readability, few_shot_readability, fine_tune_readability)\n",
    "tukey_test(one_shot_correctness, few_shot_correctness, fine_tune_correctness)\n",
    "tukey_test(one_shot_repetition, few_shot_repetition, fine_tune_repetition)"
   ]
  },
  {
   "cell_type": "markdown",
   "metadata": {},
   "source": [
    "### Split on haptic and gender"
   ]
  },
  {
   "cell_type": "code",
   "execution_count": 61,
   "metadata": {},
   "outputs": [],
   "source": [
    "Low_haptic = ['Q109', 'Q111', 'Q113', 'Q114', 'Q115', 'Q117', 'Q119', 'Q121', 'Q122', 'Q123', 'Q125', 'Q127', 'Q129', 'Q131', \n",
    "              'Q45', 'Q47', 'Q49', 'Q50', 'Q51', 'Q53', 'Q55', 'Q57', 'Q58', 'Q59', 'Q61', 'Q63', 'Q65', 'Q66', 'Q67']\n",
    "\n",
    "High_haptic = ['Q143', 'Q144', 'Q145', 'Q146', 'Q147', 'Q22', 'Q24', 'Q26', 'Q27', 'Q28', 'Q29', 'Q31', 'Q33', 'Q34', 'Q35' \n",
    "              , 'Q149', 'Q150', 'Q151', 'Q152', 'Q153', 'Q77', 'Q79', 'Q81', 'Q82', 'Q83', 'Q69', 'Q71', 'Q73', 'Q74', 'Q75']"
   ]
  },
  {
   "cell_type": "code",
   "execution_count": 62,
   "metadata": {},
   "outputs": [],
   "source": [
    "womans_df = df[df['Q3'] == '2']\n",
    "one_shot_readabilityWoman = womans_df[['Q109', 'Q143', 'Q45', 'Q149']].loc[2:]\n",
    "few_shot_readabilityWoman = womans_df[['Q117', 'Q22', 'Q53', 'Q77']].loc[2:]\n",
    "fine_tune_readabilityWoman = womans_df[['Q125', 'Q29', 'Q61', 'Q69']].loc[2:]\n",
    "###\n",
    "one_shot_correctnessWoman = womans_df[['Q111', 'Q144', 'Q47', 'Q150']].loc[2:]\n",
    "few_shot_correctnessWoman = womans_df[['Q119', 'Q24', 'Q55', 'Q79']].loc[2:]\n",
    "fine_tune_correctnessWoman = womans_df[['Q127', 'Q31', 'Q63', 'Q71']].loc[2:]\n",
    "###\n",
    "one_shot_repetitionWoman = womans_df[['Q113', 'Q145', 'Q49', 'Q151']].loc[2:]\n",
    "few_shot_repetitionWoman = womans_df[['Q121', 'Q26', 'Q57', 'Q81']].loc[2:]\n",
    "fine_tune_repetitionWoman = womans_df[['Q129', 'Q33', 'Q65', 'Q73']].loc[2:]"
   ]
  },
  {
   "cell_type": "code",
   "execution_count": 63,
   "metadata": {},
   "outputs": [],
   "source": [
    "men_df = df[df['Q3'] == '1']\n",
    "one_shot_readabilityMen = men_df[['Q109', 'Q143', 'Q45', 'Q149']].loc[2:]\n",
    "few_shot_readabilityMen = men_df[['Q117', 'Q22', 'Q53', 'Q77']].loc[2:]\n",
    "fine_tune_readabilityMen = men_df[['Q125', 'Q29', 'Q61', 'Q69']].loc[2:]\n",
    "###\n",
    "one_shot_correctnessMen = men_df[['Q111', 'Q144', 'Q47', 'Q150']].loc[2:]\n",
    "few_shot_correctnessMen = men_df[['Q119', 'Q24', 'Q55', 'Q79']].loc[2:]\n",
    "fine_tune_correctnessMen = men_df[['Q127', 'Q31', 'Q63', 'Q71']].loc[2:]\n",
    "###\n",
    "one_shot_repetitionMen = men_df[['Q113', 'Q145', 'Q49', 'Q151']].loc[2:]\n",
    "few_shot_repetitionMen = men_df[['Q121', 'Q26', 'Q57', 'Q81']].loc[2:]\n",
    "fine_tune_repetitionMen = men_df[['Q129', 'Q33', 'Q65', 'Q73']].loc[2:]"
   ]
  },
  {
   "cell_type": "code",
   "execution_count": 64,
   "metadata": {},
   "outputs": [],
   "source": [
    "LH_one_shot_readability = one_shot_readability[[column for column in one_shot_readability.columns if column in Low_haptic]]\n",
    "LH_few_shot_readability = few_shot_readability[[column for column in few_shot_readability.columns if column in Low_haptic]]\n",
    "LH_finetune_readability = fine_tune_readability[[column for column in fine_tune_readability.columns if column in Low_haptic]]\n",
    "HH_one_shot_readability = one_shot_readability[[column for column in one_shot_readability.columns if column in High_haptic]]\n",
    "HH_few_shot_readability = few_shot_readability[[column for column in few_shot_readability.columns if column in High_haptic]]\n",
    "HH_finetune_readability = fine_tune_readability[[column for column in fine_tune_readability.columns if column in High_haptic]]\n",
    "LH_one_shot_correctness = one_shot_correctness[[column for column in one_shot_correctness.columns if column in Low_haptic]]\n",
    "LH_few_shot_correctness = few_shot_correctness[[column for column in few_shot_correctness.columns if column in Low_haptic]]\n",
    "LH_finetune_correctness = fine_tune_correctness[[column for column in fine_tune_correctness.columns if column in Low_haptic]]\n",
    "HH_one_shot_correctness = one_shot_correctness[[column for column in one_shot_correctness.columns if column in High_haptic]]\n",
    "HH_few_shot_correctness = few_shot_correctness[[column for column in few_shot_correctness.columns if column in High_haptic]]\n",
    "HH_finetune_correctness = fine_tune_correctness[[column for column in fine_tune_correctness.columns if column in High_haptic]]\n",
    "LH_one_shot_repetition = one_shot_repetition[[column for column in one_shot_repetition.columns if column in Low_haptic]]\n",
    "LH_few_shot_repetition = few_shot_repetition[[column for column in few_shot_repetition.columns if column in Low_haptic]]\n",
    "LH_finetune_repetition = fine_tune_repetition[[column for column in fine_tune_repetition.columns if column in Low_haptic]]\n",
    "HH_one_shot_repetition = one_shot_repetition[[column for column in one_shot_repetition.columns if column in High_haptic]]\n",
    "HH_few_shot_repetition = few_shot_repetition[[column for column in few_shot_repetition.columns if column in High_haptic]]\n",
    "HH_finetune_repetition = fine_tune_repetition[[column for column in fine_tune_repetition.columns if column in High_haptic]]"
   ]
  },
  {
   "cell_type": "code",
   "execution_count": 65,
   "metadata": {},
   "outputs": [
    {
     "name": "stdout",
     "output_type": "stream",
     "text": [
      "Readability Woman Low Haptic\n",
      "{'oneshot': 5, 'fewshot': 4.333333333333333, 'finetune': 5.5}\n",
      "{'oneshot': 2.0, 'fewshot': 1.8618986725025255, 'finetune': 1.378404875209022}\n",
      "Readability Woman high Haptic\n",
      "{'oneshot': 4.833333333333333, 'fewshot': 5.166666666666667, 'finetune': 5.166666666666667}\n",
      "{'oneshot': 1.9407902170679516, 'fewshot': 1.7224014243685084, 'finetune': 2.228601953392904}\n",
      "Correctness Woman Low Haptic\n",
      "{'oneshot': 5.5, 'fewshot': 5.166666666666667, 'finetune': 5.166666666666667}\n",
      "{'oneshot': 0.5477225575051661, 'fewshot': 1.1690451944500122, 'finetune': 1.6020819787597222}\n",
      "Correctness Woman high Haptic\n",
      "{'oneshot': 4.5, 'fewshot': 5.833333333333333, 'finetune': 5.833333333333333}\n",
      "{'oneshot': 1.6431676725154984, 'fewshot': 0.408248290463863, 'finetune': 0.752772652709081}\n",
      "Repetition Woman Low Haptic\n",
      "{'oneshot': 3, 'fewshot': 3, 'finetune': 2.1666666666666665}\n",
      "{'oneshot': 2.0, 'fewshot': 2.0, 'finetune': 0.983192080250175}\n",
      "Repetition Woman high Haptic\n",
      "{'oneshot': 2.3333333333333335, 'fewshot': 4.333333333333333, 'finetune': 2.3333333333333335}\n",
      "{'oneshot': 1.3662601021279464, 'fewshot': 1.2110601416389966, 'finetune': 1.8618986725025255}\n"
     ]
    }
   ],
   "source": [
    "print('Readability Woman Low Haptic')\n",
    "mean_instruction_types(LH_one_shot_readability, LH_few_shot_readability, LH_finetune_readability)\n",
    "print('Readability Woman high Haptic')\n",
    "mean_instruction_types(HH_one_shot_readability, HH_few_shot_readability, HH_finetune_readability)\n",
    "print('Correctness Woman Low Haptic')\n",
    "mean_instruction_types(LH_one_shot_correctness, LH_few_shot_correctness, LH_finetune_correctness)\n",
    "print('Correctness Woman high Haptic')\n",
    "mean_instruction_types(HH_one_shot_correctness, HH_few_shot_correctness, HH_finetune_correctness)\n",
    "print('Repetition Woman Low Haptic')\n",
    "mean_instruction_types(LH_one_shot_repetition, LH_few_shot_repetition, LH_finetune_repetition)\n",
    "print('Repetition Woman high Haptic')\n",
    "mean_instruction_types(HH_one_shot_repetition, HH_few_shot_repetition, HH_finetune_repetition)"
   ]
  },
  {
   "cell_type": "markdown",
   "metadata": {},
   "source": [
    "### split on gender"
   ]
  },
  {
   "cell_type": "code",
   "execution_count": 68,
   "metadata": {},
   "outputs": [],
   "source": [
    "men_df = df[(df['Q3'] == '1') & df['Finished'] == 1]\n",
    "one_shot_readabilityMen = men_df[['Q109', 'Q143', 'Q45', 'Q149']].loc[2:]\n",
    "few_shot_readabilityMen = men_df[['Q117', 'Q22', 'Q53', 'Q77']].loc[2:]\n",
    "fine_tune_readabilityMen = men_df[['Q125', 'Q29', 'Q61', 'Q69']].loc[2:]\n",
    "###\n",
    "one_shot_correctnessMen = men_df[['Q111', 'Q144', 'Q47', 'Q150']].loc[2:]\n",
    "few_shot_correctnessMen = men_df[['Q119', 'Q24', 'Q55', 'Q79']].loc[2:]\n",
    "fine_tune_correctnessMen = men_df[['Q127', 'Q31', 'Q63', 'Q71']].loc[2:]\n",
    "###\n",
    "one_shot_repetitionMen = men_df[['Q113', 'Q145', 'Q49', 'Q151']].loc[2:]\n",
    "few_shot_repetitionMen = men_df[['Q121', 'Q26', 'Q57', 'Q81']].loc[2:]\n",
    "fine_tune_repetitionMen = men_df[['Q129', 'Q33', 'Q65', 'Q73']].loc[2:]"
   ]
  },
  {
   "cell_type": "code",
   "execution_count": 69,
   "metadata": {},
   "outputs": [],
   "source": [
    "womans_df = df[(df['Q3'] == '2') & df['Finished'] == 1]\n",
    "one_shot_readabilityWoman = womans_df[['Q109', 'Q143', 'Q45', 'Q149']].loc[2:]\n",
    "few_shot_readabilityWoman = womans_df[['Q117', 'Q22', 'Q53', 'Q77']].loc[2:]\n",
    "fine_tune_readabilityWoman = womans_df[['Q125', 'Q29', 'Q61', 'Q69']].loc[2:]\n",
    "###\n",
    "one_shot_correctnessWoman = womans_df[['Q111', 'Q144', 'Q47', 'Q150']].loc[2:]\n",
    "few_shot_correctnessWoman = womans_df[['Q119', 'Q24', 'Q55', 'Q79']].loc[2:]\n",
    "fine_tune_correctnessWoman = womans_df[['Q127', 'Q31', 'Q63', 'Q71']].loc[2:]\n",
    "###\n",
    "one_shot_repetitionWoman = womans_df[['Q113', 'Q145', 'Q49', 'Q151']].loc[2:]\n",
    "few_shot_repetitionWoman = womans_df[['Q121', 'Q26', 'Q57', 'Q81']].loc[2:]\n",
    "fine_tune_repetitionWoman = womans_df[['Q129', 'Q33', 'Q65', 'Q73']].loc[2:]"
   ]
  },
  {
   "cell_type": "code",
   "execution_count": 71,
   "metadata": {},
   "outputs": [
    {
     "name": "stdout",
     "output_type": "stream",
     "text": [
      "Readability Woman\n",
      "{'oneshot': 4.916666666666667, 'fewshot': 4.75, 'finetune': 5.333333333333333}\n",
      "{'oneshot': 1.880924981991251, 'fewshot': 1.764549903980152, 'finetune': 1.775250729197189}\n",
      "Correctness Woman\n",
      "{'oneshot': 5, 'fewshot': 5.5, 'finetune': 5.5}\n",
      "{'oneshot': 1.2792042981336627, 'fewshot': 0.9045340337332909, 'finetune': 1.243163121016122}\n",
      "Repetition Woman\n",
      "{'oneshot': 2.6666666666666665, 'fewshot': 3.6666666666666665, 'finetune': 2.25}\n",
      "{'oneshot': 1.6696942198734437, 'fewshot': 1.7232808737106582, 'finetune': 1.4222261679238197}\n"
     ]
    }
   ],
   "source": [
    "print('Readability Woman')\n",
    "mean_instruction_types(one_shot_readabilityWoman, few_shot_readabilityWoman, fine_tune_readabilityWoman)\n",
    "print('Correctness Woman')\n",
    "mean_instruction_types(one_shot_correctnessWoman, few_shot_correctnessWoman, fine_tune_correctnessWoman)\n",
    "print('Repetition Woman')\n",
    "mean_instruction_types(one_shot_repetitionWoman, few_shot_repetitionWoman, fine_tune_repetitionWoman)"
   ]
  },
  {
   "cell_type": "code",
   "execution_count": 72,
   "metadata": {},
   "outputs": [
    {
     "name": "stdout",
     "output_type": "stream",
     "text": [
      "Readability Men\n",
      "{'oneshot': 3.5, 'fewshot': 5, 'finetune': 5.5}\n",
      "{'oneshot': 1.8298865671086961, 'fewshot': 1.497472618255253, 'finetune': 1.02247471629109}\n",
      "Correctness Men\n",
      "{'oneshot': 4.382352941176471, 'fewshot': 5.470588235294118, 'finetune': 4.294117647058823}\n",
      "{'oneshot': 1.6880095124382435, 'fewshot': 0.9919461775980272, 'finetune': 1.7671996639900136}\n",
      "Repetition Men\n",
      "{'oneshot': 2.676470588235294, 'fewshot': 3, 'finetune': 2.235294117647059}\n",
      "{'oneshot': 1.2961618921353482, 'fewshot': 1.7407765595569784, 'finetune': 0.8548905132596332}\n"
     ]
    }
   ],
   "source": [
    "print('Readability Men')\n",
    "mean_instruction_types(one_shot_readabilityMen, few_shot_readabilityMen, fine_tune_readabilityMen)\n",
    "print('Correctness Men')\n",
    "mean_instruction_types(one_shot_correctnessMen, few_shot_correctnessMen, fine_tune_correctnessMen)\n",
    "print('Repetition Men')\n",
    "mean_instruction_types(one_shot_repetitionMen, few_shot_repetitionMen, fine_tune_repetitionMen)"
   ]
  },
  {
   "cell_type": "code",
   "execution_count": 73,
   "metadata": {},
   "outputs": [
    {
     "name": "stdout",
     "output_type": "stream",
     "text": [
      "readability oneshot vs fewshot T-test\n",
      "Ttest_indResult(statistic=0.22386133032840014, pvalue=0.8249393635916926)\n",
      "readability oneshot vs finetune T-test\n",
      "Ttest_indResult(statistic=-0.5580665539124304, pvalue=0.5824528985888504)\n",
      "readability fewshot vs finetune T-test\n",
      "Ttest_indResult(statistic=-0.8073124087192437, pvalue=0.4281294258317254)\n",
      "correctness oneshot vs fewshot T-test\n",
      "Ttest_indResult(statistic=-1.1055415967851332, pvalue=0.2821778681279097)\n",
      "correctness oneshot vs finetune T-test\n",
      "Ttest_indResult(statistic=-0.9710083124552245, pvalue=0.34210813232034276)\n",
      "correctness fewshot vs finetune T-test\n",
      "Ttest_indResult(statistic=0.0, pvalue=1.0)\n",
      "repitition oneshot vs fewshot T-test\n",
      "Ttest_indResult(statistic=-1.4436795095573636, pvalue=0.16293328380686306)\n",
      "repitition oneshot vs finetune T-test\n",
      "Ttest_indResult(statistic=0.658081200264627, pvalue=0.5174848989067073)\n",
      "repitition fewshot vs finetune T-test\n",
      "Ttest_indResult(statistic=2.1963550989739966, pvalue=0.03930373951551628)\n"
     ]
    }
   ],
   "source": [
    "readabilityT_testWoman = t_test_instruction_types(one_shot_readabilityWoman, few_shot_readabilityWoman, fine_tune_readabilityWoman, score='readability')\n",
    "correctnessT_testWoman = t_test_instruction_types(one_shot_correctnessWoman, few_shot_correctnessWoman, fine_tune_correctnessWoman,  score='correctness')\n",
    "repitionT_testWoman = t_test_instruction_types(one_shot_repetitionWoman, few_shot_repetitionWoman, fine_tune_repetitionWoman, score='repitition')"
   ]
  },
  {
   "cell_type": "code",
   "execution_count": 74,
   "metadata": {},
   "outputs": [
    {
     "name": "stdout",
     "output_type": "stream",
     "text": [
      "readability oneshot vs fewshot T-test\n",
      "Ttest_indResult(statistic=-3.699044042623485, pvalue=0.0004539390899297933)\n",
      "readability oneshot vs finetune T-test\n",
      "Ttest_indResult(statistic=-5.563427373295263, pvalue=9.437230227395297e-07)\n",
      "readability fewshot vs finetune T-test\n",
      "Ttest_indResult(statistic=-1.607872338284728, pvalue=0.11326811884177118)\n",
      "correctness oneshot vs fewshot T-test\n",
      "Ttest_indResult(statistic=-3.2409622517294987, pvalue=0.002054346424764269)\n",
      "correctness oneshot vs finetune T-test\n",
      "Ttest_indResult(statistic=0.21052729757309366, pvalue=0.8339061258180107)\n",
      "correctness fewshot vs finetune T-test\n",
      "Ttest_indResult(statistic=3.385016001931651, pvalue=0.0013622996584491543)\n",
      "repitition oneshot vs fewshot T-test\n",
      "Ttest_indResult(statistic=-0.8692148938516142, pvalue=0.3881375645924976)\n",
      "repitition oneshot vs finetune T-test\n",
      "Ttest_indResult(statistic=1.6567790500553776, pvalue=0.10304558164562963)\n",
      "repitition fewshot vs finetune T-test\n",
      "Ttest_indResult(statistic=2.2991859264032164, pvalue=0.02588514283002809)\n"
     ]
    }
   ],
   "source": [
    "readabilityT_testMen = t_test_instruction_types(one_shot_readabilityMen, few_shot_readabilityMen, fine_tune_readabilityMen,  score='readability')\n",
    "correctnessT_testMen = t_test_instruction_types(one_shot_correctnessMen, few_shot_correctnessMen, fine_tune_correctnessMen,  score='correctness')\n",
    "repitionT_testMen = t_test_instruction_types(one_shot_repetitionMen, few_shot_repetitionMen, fine_tune_repetitionMen, score='repitition')"
   ]
  },
  {
   "cell_type": "markdown",
   "metadata": {},
   "source": [
    "# Not Split"
   ]
  },
  {
   "cell_type": "code",
   "execution_count": 43,
   "metadata": {},
   "outputs": [],
   "source": [
    "one_shot_readability = df[['Q109', 'Q143', 'Q45', 'Q149']].loc[2:]\n",
    "few_shot_readability = df[['Q117', 'Q22', 'Q53', 'Q77']].loc[2:]\n",
    "fine_tune_readability = df[['Q125', 'Q29', 'Q61', 'Q69']].loc[2:]\n",
    "###\n",
    "one_shot_correctness = df[['Q111', 'Q144', 'Q47', 'Q150']].loc[2:]\n",
    "few_shot_correctness = df[['Q119', 'Q24', 'Q55', 'Q79']].loc[2:]\n",
    "fine_tune_correctness = df[['Q127', 'Q31', 'Q63', 'Q71']].loc[2:]\n",
    "###\n",
    "one_shot_repetition = df[['Q113', 'Q145', 'Q49', 'Q151']].loc[2:]\n",
    "few_shot_repetition = df[['Q121', 'Q26', 'Q57', 'Q81']].loc[2:]\n",
    "fine_tune_repetition = df[['Q129', 'Q33', 'Q65', 'Q73']].loc[2:]"
   ]
  },
  {
   "cell_type": "code",
   "execution_count": 47,
   "metadata": {},
   "outputs": [
    {
     "name": "stdout",
     "output_type": "stream",
     "text": [
      "Readability\n",
      "{'oneshot': 3.869565217391304, 'fewshot': 4.934782608695652, 'finetune': 5.456521739130435}\n",
      "{'oneshot': 1.9276778851731187, 'fewshot': 1.5549515735659634, 'finetune': 1.241979096963667}\n",
      "Correctness\n",
      "{'oneshot': 4.543478260869565, 'fewshot': 5.478260869565218, 'finetune': 4.608695652173913}\n",
      "{'oneshot': 1.601478785222242, 'fewshot': 0.9600724610334277, 'finetune': 1.718891902354734}\n",
      "Repetition\n",
      "{'oneshot': 2.6739130434782608, 'fewshot': 3.1739130434782608, 'finetune': 2.239130434782609}\n",
      "{'oneshot': 1.3833027759851815, 'fewshot': 1.7423400334809882, 'finetune': 1.0151033359262966}\n"
     ]
    }
   ],
   "source": [
    "print('Readability')\n",
    "mean_instruction_types(one_shot_readability, few_shot_readability, fine_tune_readability)\n",
    "print('Correctness')\n",
    "mean_instruction_types(one_shot_correctness, few_shot_correctness, fine_tune_correctness)\n",
    "print('Repetition')\n",
    "mean_instruction_types(one_shot_repetition, few_shot_repetition, fine_tune_repetition)"
   ]
  },
  {
   "cell_type": "code",
   "execution_count": null,
   "metadata": {},
   "outputs": [],
   "source": []
  },
  {
   "cell_type": "code",
   "execution_count": null,
   "metadata": {},
   "outputs": [],
   "source": []
  },
  {
   "cell_type": "code",
   "execution_count": null,
   "metadata": {},
   "outputs": [],
   "source": []
  }
 ],
 "metadata": {
  "kernelspec": {
   "display_name": "Python 3",
   "language": "python",
   "name": "python3"
  },
  "language_info": {
   "codemirror_mode": {
    "name": "ipython",
    "version": 3
   },
   "file_extension": ".py",
   "mimetype": "text/x-python",
   "name": "python",
   "nbconvert_exporter": "python",
   "pygments_lexer": "ipython3",
   "version": "3.8.5"
  }
 },
 "nbformat": 4,
 "nbformat_minor": 4
}
